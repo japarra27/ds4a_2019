{
 "cells": [
  {
   "cell_type": "markdown",
   "metadata": {},
   "source": [
    "## Is it sound practice to use FICO credit scores to evaluate credit risk? "
   ]
  },
  {
   "cell_type": "markdown",
   "metadata": {},
   "source": [
    "## Case Introduction"
   ]
  },
  {
   "cell_type": "markdown",
   "metadata": {},
   "source": [
    "**Business Context.** Lenders, such as banks and credit card companies, use credit scores to evaluate the potential risk posed by lending money to consumers and to mitigate losses due to bad debt. The consumer credit rating company Experian PLC classifies credit standings under the following score ranges:\n",
    "\n",
    "| Rating | Credit Range |\n",
    "| ------ | ------------ |\n",
    "| Poor   | 300-576      |\n",
    "| Fair   | 580-669      |\n",
    "| Good   | 670-850      |\n",
    "\n",
    "\n",
    "\n",
    "You are an analyst for a large loan agency, and your role is to help your company make decisions on whether or not to approve a loan. \n",
    "\n",
    "**Business problem.**  Your company uses FICO credit scores, among other things, to evaluate if customers at credit risk. You are **asked to investigate if this is a sound practice**. \n",
    "\n",
    "**Analytical context.** You have information about 165,000 consumers from all over the US as shown in the above video.  Thus you want to get a strong understanding of how FICO scores relate to consumer credit.  We will investigate this question by examining a series of tables, box plots and histograms."
   ]
  },
  {
   "cell_type": "markdown",
   "metadata": {},
   "source": [
    "## Data Summary"
   ]
  },
  {
   "cell_type": "markdown",
   "metadata": {},
   "source": [
    "The data set contains 7 categories. The column account status has 41 different categories including \"Current Account\" (the account is in good standing), \"PAID SATIS\" (account paid satisfactorily) to \"PD 30\" (account was 30 days past due), \"PD 30 6\" (account was 30 days past due 6 times) and \"COLLACCT\" (account was sent for collection). **Please look at the supporting document to get more information about different categories in account status**. The other columns in this dataset are their state, city, Zip code, and their VantageScore, an alternative to FICO score."
   ]
  },
  {
   "cell_type": "markdown",
   "metadata": {},
   "source": [
    "|    Id | Acct Status|      State        |   City           |  ZIP   | Vantage Score   | FICO Score|   \n",
    "|-------|------------|-------------------|------------------|--------|-----------------|-----------|\n",
    "|\t0\t|CURR  ACCT  |\t      \t    GA   |    DOUGLASVILLE  |\t30135|\t601             |\t642     |\n",
    "|\t1\t|PAID SATIS  |          \t GA  |\t      COVINGTON |\t30014|\t659             |\t608     |\n",
    "|\t2\t|CURR  ACCT  |\t        \t GA  |\t        GRAYSON |\t30017|\t604             |\t600     |\n",
    "|\t3\t|CURR  ACCT  |\t       \t    FL   |\t       CHULUOTA |\t32766|\t772             |\t769     |\n",
    "|\t4\t|CURR  ACCT  |\t           TX    |\t        COPPELL |   75019|\t762             |\t793     |\n",
    "\n",
    "\n",
    "\n"
   ]
  },
  {
   "cell_type": "markdown",
   "metadata": {},
   "source": [
    "## Profiles of Consumers With Current Account\n",
    "A natural place to start is to investigate what kind of account types does your company most often approve loans for. You have observed that most customers with current account often have their loan approved. This makes sense since current account status usually signals good credit. \n",
    "The following plot shows the distribution of FICO scores of consumers with current account. "
   ]
  },
  {
   "cell_type": "markdown",
   "metadata": {},
   "source": [
    "<img src=\"score_dist.png\">"
   ]
  },
  {
   "cell_type": "markdown",
   "metadata": {},
   "source": [
    "Let us see if the information contained in our FICO data set resonates with Experian's classification."
   ]
  },
  {
   "cell_type": "markdown",
   "metadata": {},
   "source": [
    "## Question 1: \n",
    "Consider the reasoning: Most of the FICO scores of consumers with current account are above 650.\n",
    "Thus higher FICO scores are associated with better credit. Is this reasoning correct?"
   ]
  },
  {
   "cell_type": "markdown",
   "metadata": {},
   "source": [
    "## FICO Scores Across Account Types."
   ]
  },
  {
   "cell_type": "markdown",
   "metadata": {},
   "source": [
    "The following table shows the top 5 account types with highest average FICO scores."
   ]
  },
  {
   "cell_type": "markdown",
   "metadata": {},
   "source": [
    "|Account Status                |mean| 25th percentile|75th percentile|\n",
    "|------------------------------|----|----------------|---------------|\n",
    "|Paid to satisfaction          |721\t|668 \t         |790            |\n",
    "|Good Standing\t               |702\t|645\t         |776            |\n",
    "|Consumer reported as deceased |695\t|615\t         |786            |\n",
    "|Paid Account\t               |681\t|584\t         |768            |\n",
    "|Current, was 180 Overdue\t   |677\t|605\t         |738            |"
   ]
  },
  {
   "cell_type": "markdown",
   "metadata": {},
   "source": [
    "The following 5 accounts with the lowest FICO scores."
   ]
  },
  {
   "cell_type": "markdown",
   "metadata": {},
   "source": [
    "|Account status             |mean|25th percentile|75th percentile|\n",
    "|---------------------------|----|---------------|---------------|\t\t\t\n",
    "|Merchandise was taken\t    |559 |\t513\t         |594            |\n",
    "|Account sent for collection|558 |\t483\t         |603            |\n",
    "|Account seriously past due\t|541 |\t507\t         |574            |\n",
    "|Paid, was 150 days Overdue |541 |\t511\t         |597            |\n",
    "|Account Reported\t        |529 |\t495\t         |556            |"
   ]
  },
  {
   "cell_type": "markdown",
   "metadata": {},
   "source": [
    "### Question 2: \n",
    "From the above tables, and the Experian account classification document provided to you, what can you say\n",
    "about the relationship between FICO scores and credit?"
   ]
  },
  {
   "cell_type": "markdown",
   "metadata": {},
   "source": [
    "## Visualizing  FICO Scores across  Using Boxplots\n",
    "An alternative way to compare the distribution of FICO scores across account types is using boxplots. A boxplot uses five key summaries to display information about a distribution.\n",
    "These are median (50th percentiles), first quartile (25% percentile), third quartile (75% percentile), \"minimum\" and \"maximum\". The difference between the third quartile and the first quartile is called the \"Inter Quartile Range\" (IQR).\n",
    "The following figure (courtesy: wikipedia) shows the structure of a boxplot:\n",
    "<img src=\"boxplot.png\">"
   ]
  },
  {
   "cell_type": "markdown",
   "metadata": {},
   "source": [
    "As a warm up, the following boxplot shows the distribution of FICO scores for consumers from Texas whose accounts were sent for collection. \n",
    "<img src=\"btexascoll.png\">\n",
    "\n",
    "The dots represent outliers. These are scores which are 1.5xIQR away from the 75th percentile."
   ]
  },
  {
   "cell_type": "markdown",
   "metadata": {},
   "source": [
    "#### Question 3: \n",
    "Suppose that your firm approves home loans only for those customers in Texas whose FICO scores are above 700. Based on the boxplot above, which is the following statements is most accurate for customers in Texas whose accounts were sent for collection?\n",
    "\n",
    "1. At least 25% of them will get their home loan approved.\n",
    "2. At least some of them will likely get their home loan approved.\n",
    "3. At least 75% of them will get their loan approval denied.\n",
    "4. There are some customers whose FICO scores are below 400."
   ]
  },
  {
   "cell_type": "markdown",
   "metadata": {},
   "source": [
    "The following distribution of FICO scores across various account types in the same plot.\n",
    "<img src=\"barplot.png\">"
   ]
  },
  {
   "cell_type": "markdown",
   "metadata": {},
   "source": [
    "#### Question 4: What can you infer about the relationship between credit status and FICO scores from the boxplot above?"
   ]
  },
  {
   "cell_type": "markdown",
   "metadata": {},
   "source": [
    "#### Question 5: \n",
    "What additional information does the boxplot above give as compared to the distribution of FICO scores of consumers with current account shown earlier? Why this important to our case?"
   ]
  },
  {
   "cell_type": "markdown",
   "metadata": {},
   "source": [
    "Let us look at the distribution of consumers across various states in our dataset. The following plot shows the percentage of consumers from each state. The darker colors indicate higher percentages.\n",
    "<img src=\"mapstatic.png\">"
   ]
  },
  {
   "cell_type": "markdown",
   "metadata": {},
   "source": [
    "#### Question 6:\n",
    "Consider the following statement: based on the plots and tables seen so far, we can now conclude higher FICO scores are indicative of good credit for consumers in the US. Choose the correct alternative. \n",
    "\n",
    "1.This conclusion is fair because we have found that FICO scores of current account holders on average (both from the plot and table above) are quite a bit higher than consumers with account types.\n",
    "\n",
    "2.This conclusion is fair because both the chart and the plot show that, on average a consumer with a higher credit score is more likely to have a current account than an account that was past due.\n",
    "\n",
    "3.We cannot quite yet generalize this to all of US yet, because the dataset we have might not be representative of entire US. The dataset could contain consumers only from one part of the US such as the east coast.\n",
    "\n",
    "4.This conclusion is fair because both the chart and the plot show that, a consumer with a higher credit score is more likely to have a current account than an account that was past due. Even if the dataset does not contain consumers from all over the US, consumer behavior does not vary hugely from state to state."
   ]
  },
  {
   "cell_type": "markdown",
   "metadata": {},
   "source": [
    "## If FICO Scores are Not Available, Can We Use VantageScores Instead?"
   ]
  },
  {
   "cell_type": "markdown",
   "metadata": {},
   "source": [
    "Next suppose that you have a new customer but you don't have their FICO score available, but do have their VantageScore. VantageScores are a main alternative to FICO scores. Credit bureaus Experian, TransUnion and Equifax came up with an algorithm to produce VantageScore. Thus you would like to know if VantageScore can be used to evaluate their credit status.\n",
    "\n",
    "The following plot compares FICO scores to Vantage scores.\n",
    "<img src=\"fico-vantage-overall.png\">"
   ]
  },
  {
   "cell_type": "markdown",
   "metadata": {},
   "source": [
    "### Question 7\n",
    "The graph above plots FICO scores vs Vantage scores for all of the consumers in our dataset. Which of the following the statements can be made from this plot?\n",
    " \n",
    "1. If a consumer with current account has high FICO score, on average, one would expect him/her to have a high Vantage score.\n",
    "2. FICO scores are similar to Vantage scores only for consumers with good credit.\n",
    "3. FICO scores are positively correlated with Vantage scores. Thus if a consumer has high FICO score, he/she is expected to have high vantage score.\n",
    "4. There isn't enough information in this plot to deduce any of these statements."
   ]
  },
  {
   "cell_type": "markdown",
   "metadata": {},
   "source": [
    "The following plots shows that FICO scores and VantageScores are indeed positively correlated across various account types.\n",
    "<img src=\"correlation-acc.png\">\n",
    "\n",
    "Thus it seems like VantageScores are a resonable alternative for FICO scores."
   ]
  },
  {
   "cell_type": "markdown",
   "metadata": {},
   "source": [
    "## Case Summary\n",
    "\n",
    "We saw that if the FICO scores were to be associated with good credit status, the scores should be differentiated across account types. We can compare the distribution of FICO scores across account types using boxplots. By doing this, we saw that accounts with good standing had highest FICO scores and delinquent accounts had some of the lowest credit scores. Thus it seems that FICO scores are a good quantity to evaluate credit risk. \n",
    "\n",
    "We also needed to check if our data was representative of all of the US. We did this by overlaying the percentage of consumers from each state on a map of the US. We saw from the map that a few states were over represented in our dataset; a vast majority of the states were underrepresented. When FICO scores were not available, we saw that we could use VantageScores instead. This was because the FICO scores and VantageScores were positively correlated across account types."
   ]
  },
  {
   "cell_type": "markdown",
   "metadata": {},
   "source": [
    "## Takeaways"
   ]
  },
  {
   "cell_type": "markdown",
   "metadata": {},
   "source": [
    "1. If we want to examine if a numerical quantity (credit score) to make a decision, we should verify if it is\n",
    "   differentiated across categories. \n",
    "2. Boxplots across categories are an important tool to see how differentiated the categories are.\n",
    "3. Finding correlations between variables lets us one of them as a \"proxy\" for the other."
   ]
  }
 ],
 "metadata": {
  "anaconda-cloud": {},
  "kernelspec": {
   "display_name": "Python 3",
   "language": "python",
   "name": "python3"
  },
  "language_info": {
   "codemirror_mode": {
    "name": "ipython",
    "version": 3
   },
   "file_extension": ".py",
   "mimetype": "text/x-python",
   "name": "python",
   "nbconvert_exporter": "python",
   "pygments_lexer": "ipython3",
   "version": "3.7.3"
  }
 },
 "nbformat": 4,
 "nbformat_minor": 4
}
