{
 "cells": [
  {
   "cell_type": "code",
   "execution_count": 1,
   "metadata": {},
   "outputs": [],
   "source": [
    "import json\n",
    "import requests\n",
    "from bs4 import BeautifulSoup\n",
    "import pandas as pd\n",
    "import matplotlib.pyplot as plt\n",
    "import seaborn as sns"
   ]
  },
  {
   "cell_type": "markdown",
   "metadata": {},
   "source": [
    "## Case Introduction (15 minutes)"
   ]
  },
  {
   "cell_type": "markdown",
   "metadata": {},
   "source": [
    "The city of New York has seen a rise in the amount of accidents on the roads in the city. They would like to know if the number of accidents have increased in the last few weeks. For all the reported accidents, they have collected details for each accident and have been maintaining records for the past year and a half (From Jan 2018 to Aug 2019). \n",
    "\n",
    "They have now approached you to provide a few visualisations that would help them to identify the patterns in accidents if possible which would help them take preventive actions to reduce the number of accidents in the future. They have certain parameters like borough, time of day, reason for accident e.t.c based on which they would like to find whether\n",
    "\n",
    "**Your task is to format the given data and provide visualisations that would point out patterns in the accidents, if any**"
   ]
  },
  {
   "cell_type": "markdown",
   "metadata": {},
   "source": [
    "### Analytical Context"
   ]
  },
  {
   "cell_type": "markdown",
   "metadata": {},
   "source": [
    "You will be provided with a csv file containing details about each accident like date, time, location of the accident, a specific reason if there was one, type of vehicles involved, injury and death count e.t.c. The delimiter in the given csv file would be `;` instead of the default `,`. You will be performing the following tasks on the data:\n",
    "\n",
    "- The client wants you to develop these items in 2 individual modules:\n",
    "    1. Read, transform and get data ready for visualisation\n",
    "        - The client wants this module to be provided in a separate file, as they would like to use the code in multiple places\n",
    "        - This module should include\n",
    "            - Read the csv and calculate the total injured and dead people for each accident\n",
    "            - The updated file would be written as a JSON file\n",
    "            - Fetch data about population and area of each borough from the wikipedia page  - https://en.wikipedia.org/wiki/Boroughs_of_New_York_City\n",
    "    2. Perform analytics and visualisation operations on the data and identify patterns on the dataset.\n",
    "        - This module would read the JSON file you created in the first step and visualise the data\n",
    "        - You will be visualising data based on different parameters and find some pattern on the accidents\n"
   ]
  },
  {
   "cell_type": "markdown",
   "metadata": {},
   "source": [
    "## Data Manipulation  (25 minutes)"
   ]
  },
  {
   "cell_type": "markdown",
   "metadata": {},
   "source": [
    "The first step would be to write the module that reads the given csv file, calculate total injuries and death for each accident, and write the data as JSON. Since the code should be reusable, you will have to create a new `.py` file in the same folder as this notebook and write the following functions:\n",
    "\n",
    "- read_csv_file - This function will read the csv file, split the row based on given delimiter and return the list of rows as list of dictionaries\n",
    "- format_data - When passed with data from previous file, this function would calculate the total injuries and death for each row. This function should also combine the date and time columns in the dataset into a single column.\n",
    "- write_json_file - This function would be used to write the manipulated data into a `.json` file. Create a separate `data` folder (If it already doesn't exist) and place the json file inside the folder."
   ]
  },
  {
   "cell_type": "markdown",
   "metadata": {},
   "source": [
    "Once you have written the 3 functions in your `.py` file, they have to called from here in order to perform the operations."
   ]
  },
  {
   "cell_type": "code",
   "execution_count": 2,
   "metadata": {},
   "outputs": [
    {
     "name": "stdout",
     "output_type": "stream",
     "text": [
      "['DATE', 'TIME', 'BOROUGH', 'ZIP CODE', 'LATITUDE', 'LONGITUDE', 'ON STREET NAME', 'NUMBER OF PEDESTRIANS INJURED', 'NUMBER OF PEDESTRIANS KILLED', 'NUMBER OF CYCLIST INJURED', 'NUMBER OF CYCLIST KILLED', 'NUMBER OF MOTORIST INJURED', 'NUMBER OF MOTORIST KILLED', 'CONTRIBUTING FACTOR VEHICLE 1', 'CONTRIBUTING FACTOR VEHICLE 2', 'CONTRIBUTING FACTOR VEHICLE 3', 'CONTRIBUTING FACTOR VEHICLE 4', 'CONTRIBUTING FACTOR VEHICLE 5', 'COLLISION_ID', 'VEHICLE TYPE CODE 1', 'VEHICLE TYPE CODE 2', 'VEHICLE TYPE CODE 3', 'VEHICLE TYPE CODE 4', 'VEHICLE TYPE CODE 5']\n",
      "['DATE', 'TIME', 'BOROUGH', 'ZIP CODE', 'LATITUDE', 'LONGITUDE', 'ON STREET NAME', 'NUMBER OF PEDESTRIANS INJURED', 'NUMBER OF PEDESTRIANS KILLED', 'NUMBER OF CYCLIST INJURED', 'NUMBER OF CYCLIST KILLED', 'NUMBER OF MOTORIST INJURED', 'NUMBER OF MOTORIST KILLED', 'CONTRIBUTING FACTOR VEHICLE 1', 'CONTRIBUTING FACTOR VEHICLE 2', 'CONTRIBUTING FACTOR VEHICLE 3', 'CONTRIBUTING FACTOR VEHICLE 4', 'CONTRIBUTING FACTOR VEHICLE 5', 'COLLISION_ID', 'VEHICLE TYPE CODE 1', 'VEHICLE TYPE CODE 2', 'VEHICLE TYPE CODE 3', 'VEHICLE TYPE CODE 4', 'VEHICLE TYPE CODE 5']\n"
     ]
    }
   ],
   "source": [
    "import data_manipulation\n",
    "rows = data_manipulation.read_csv_file('accidents.csv', delimiter=';')\n",
    "rows = data_manipulation.calculate_total_injuries_and_death(rows)\n",
    "data_manipulation.write_json_file(rows)"
   ]
  },
  {
   "cell_type": "markdown",
   "metadata": {},
   "source": [
    "## Data Extraction (20 minutes)"
   ]
  },
  {
   "cell_type": "markdown",
   "metadata": {},
   "source": [
    "Now that the format changes have been made to the data, next we will fetch the population and area of each borough from the wikipedia page - https://en.wikipedia.org/wiki/Boroughs_of_New_York_City"
   ]
  },
  {
   "cell_type": "code",
   "execution_count": 3,
   "metadata": {},
   "outputs": [
    {
     "data": {
      "text/plain": [
       "{'the bronx': {'name': 'the bronx', 'population': 1471160.0, 'area': 42.1},\n",
       " 'brooklyn': {'name': 'brooklyn', 'population': 2648771.0, 'area': 70.82},\n",
       " 'manhattan': {'name': 'manhattan', 'population': 1664727.0, 'area': 22.83},\n",
       " 'queens': {'name': 'queens', 'population': 2358582.0, 'area': 108.53},\n",
       " 'staten island': {'name': 'staten island',\n",
       "  'population': 479458.0,\n",
       "  'area': 58.37}}"
      ]
     },
     "execution_count": 3,
     "metadata": {},
     "output_type": "execute_result"
    }
   ],
   "source": [
    "response = requests.get('https://en.wikipedia.org/wiki/Boroughs_of_New_York_City')\n",
    "soup = BeautifulSoup(response.text)\n",
    "\n",
    "borough_data = {}\n",
    "table_body = soup.find('table', {'class': ['wikitable', 'sortable', 'jquery-tablesorter']}).find('tbody')\n",
    "\n",
    "for row in table_body.find_all('tr'):\n",
    "    cells = row.find_all('td')\n",
    "    if cells and len(cells) == 9:\n",
    "        name = cells[0].text.strip().lower()\n",
    "        population = float(cells[2].text.replace(',', '').strip())\n",
    "        area = float(cells[5].text.strip())\n",
    "        borough_data[name] = {\n",
    "            'name': name,\n",
    "            'population': population,\n",
    "            'area': area\n",
    "        }\n",
    "        \n",
    "borough_data"
   ]
  },
  {
   "cell_type": "markdown",
   "metadata": {},
   "source": [
    "For later usage, let's store the borough data into a json file, in the already created `data` folder."
   ]
  },
  {
   "cell_type": "code",
   "execution_count": 4,
   "metadata": {},
   "outputs": [],
   "source": [
    "with open('data/borough_data.json', 'w+') as f:\n",
    "    json.dump(borough_data, f)"
   ]
  },
  {
   "cell_type": "markdown",
   "metadata": {},
   "source": [
    "## Read data with Pandas (15 minutes)"
   ]
  },
  {
   "cell_type": "markdown",
   "metadata": {},
   "source": [
    "We have successfully extracted the data from the wikipedia page and stored it in the above dictionary. This can be used later when we visualise data based on the boroughs. Next, let's read the JSON file that we wrote in the previous file. Since it was stored as a JSON file, we'll use `read_json` function of pandas to do that"
   ]
  },
  {
   "cell_type": "code",
   "execution_count": 5,
   "metadata": {},
   "outputs": [],
   "source": [
    "with open('data.json') as f:\n",
    "    df = pd.read_json(f, orient='records')"
   ]
  },
  {
   "cell_type": "markdown",
   "metadata": {},
   "source": [
    "Let's go through the columns present in the dataframe."
   ]
  },
  {
   "cell_type": "code",
   "execution_count": 6,
   "metadata": {},
   "outputs": [
    {
     "data": {
      "text/plain": [
       "Index(['BOROUGH', 'COLLISION_ID', 'CONTRIBUTING FACTOR VEHICLE 1',\n",
       "       'CONTRIBUTING FACTOR VEHICLE 2', 'CONTRIBUTING FACTOR VEHICLE 3',\n",
       "       'CONTRIBUTING FACTOR VEHICLE 4', 'CONTRIBUTING FACTOR VEHICLE 5',\n",
       "       'DATE', 'DATETIME', 'LATITUDE', 'LONGITUDE',\n",
       "       'NUMBER OF CYCLIST INJURED', 'NUMBER OF CYCLIST KILLED',\n",
       "       'NUMBER OF MOTORIST INJURED', 'NUMBER OF MOTORIST KILLED',\n",
       "       'NUMBER OF PEDESTRIANS INJURED', 'NUMBER OF PEDESTRIANS KILLED',\n",
       "       'ON STREET NAME', 'TIME', 'TOTAL INJURED', 'TOTAL KILLED',\n",
       "       'VEHICLE TYPE CODE 1', 'VEHICLE TYPE CODE 2', 'VEHICLE TYPE CODE 3',\n",
       "       'VEHICLE TYPE CODE 4', 'VEHICLE TYPE CODE 5', 'ZIP CODE'],\n",
       "      dtype='object')"
      ]
     },
     "execution_count": 6,
     "metadata": {},
     "output_type": "execute_result"
    }
   ],
   "source": [
    "df.columns"
   ]
  },
  {
   "cell_type": "markdown",
   "metadata": {},
   "source": [
    "We have the following columns\n",
    "\n",
    "- **Borough** - The borough in which the accident occured\n",
    "- **COLLISION_ID** - A unique identifier for this collision\n",
    "- **CONTRIBUTING FACTOR VEHICLE (1, 2, 3, 4, 5)** - Reasons for the accident\n",
    "- **CROSS STREET NAME** - Nearest cross street to the place of accidents\n",
    "- **DATE** - Date of the accident\n",
    "- **TIME** - Time of accident\n",
    "- **DATETIME** - The column we previously created with the combination of date and time\n",
    "- **LATITUDE** - Latitude of the accident\n",
    "- **LONGITUDE** - Longitude of the accident\n",
    "- **NUMBER OF (CYCLIST, MOTORIST, PEDESTRIANS) INJURED** - Category wise injury\n",
    "- **NUMBER OF (CYCLIST, MOTORIST, PEDESTRIANS) KILLED** - Category wise death\n",
    "- **ON STREET NAME** - Street where the accident occured\n",
    "- **TOTAL INJURED** - Total injury from the accident\n",
    "- **TOTAL KILLED** - Total casualities in the accident\n",
    "- **VEHICLE TYPE CODE (1, 2, 3, 4, 5)** - Types of vehicles involved in the accident\n",
    "- **ZIP CODE** - zipcode of the accident location"
   ]
  },
  {
   "cell_type": "markdown",
   "metadata": {},
   "source": []
  },
  {
   "cell_type": "markdown",
   "metadata": {},
   "source": [
    "## Data Exploration (20 minutes)"
   ]
  },
  {
   "cell_type": "markdown",
   "metadata": {},
   "source": [
    "Now that we are familiar with the data, let's start doing some exploration on the given data and get some insights that can be useful for the customer. In cases like these, it's upto your decision making skill to determine the important columns / data points to look for in the given dataset. The client might give you indicators on some items they expect the results for (E.g. The client here is interested in researching things based on borough of the accident). Keeping that as the baseline, you should be trying to combine other columns present in the dataset to get proper correlations and dependencies which can be useful for the client.\n",
    "\n",
    "In any given dataset, if there is a date / time column present, that is the first item that we need to look for to see how the data is distributed, or how frequent the events are, or how they are spread out across a day. The first step on that would be to check how the data is distributed. Do we have records for all months of the year? Is it continous or discrete?"
   ]
  },
  {
   "cell_type": "code",
   "execution_count": 7,
   "metadata": {},
   "outputs": [
    {
     "data": {
      "text/plain": [
       "<matplotlib.axes._subplots.AxesSubplot at 0x148cabcd0>"
      ]
     },
     "execution_count": 7,
     "metadata": {},
     "output_type": "execute_result"
    },
    {
     "data": {
      "image/png": "[encoded data removed]",
      "text/plain": [
       "<Figure size 432x288 with 1 Axes>"
      ]
     },
     "metadata": {
      "needs_background": "light"
     },
     "output_type": "display_data"
    }
   ],
   "source": [
    "# Check whether the number of accidents have increased over time\n",
    "\n",
    "monthly_accidents = df.groupby(df['DATETIME'].dt.to_period('M')).size()\n",
    "monthly_accidents.plot.line()\n"
   ]
  },
  {
   "cell_type": "markdown",
   "metadata": {},
   "source": [
    "We can see that the data is continous and present for the entire year and a half. The sudden dip at the end of the graph could be attributed to the fact that the data is not present for the entire month of August 2019."
   ]
  },
  {
   "cell_type": "markdown",
   "metadata": {},
   "source": [
    "When we think of the next step in the analysis, it makes sense to check how the number of accidents vary across the day. Do more accidents occur in the night? Or do they occur more during the peak hours of morning? Or in the evening? Let's find out.\n",
    "\n",
    "Since there is no specific column for the hour of the day of the accident, you will need to create a new column `HOUR` based on the data from the `DATETIME` column."
   ]
  },
  {
   "cell_type": "code",
   "execution_count": 8,
   "metadata": {},
   "outputs": [
    {
     "data": {
      "text/plain": [
       "<matplotlib.axes._subplots.AxesSubplot at 0x148ca3390>"
      ]
     },
     "execution_count": 8,
     "metadata": {},
     "output_type": "execute_result"
    },
    {
     "data": {
      "image/png": "[encoded data removed]",
      "text/plain": [
       "<Figure size 432x288 with 1 Axes>"
      ]
     },
     "metadata": {
      "needs_background": "light"
     },
     "output_type": "display_data"
    }
   ],
   "source": [
    "# Find out how the number of accidents varies across hours. \n",
    "# Are there more accidents in the night? Or during peak hours?\n",
    "# Create a new hour column and group by\n",
    "df['HOUR'] = df['DATETIME'].dt.hour\n",
    "hourly_accidents = df.groupby('HOUR').size()\n",
    "hourly_accidents.plot.bar()\n"
   ]
  },
  {
   "cell_type": "markdown",
   "metadata": {},
   "source": [
    "Seeing the graph gives us a clear idea that more accidents occur in the afternoon (2PM to 6PM) rather than in the night time or in the morning hours."
   ]
  },
  {
   "cell_type": "markdown",
   "metadata": {},
   "source": [
    "Similar to hour of the day, another pattern we could look for is with the weekdays. Looking for patterns in the day of the week makes more sense in this case rather than something like day of month. Because, people have a different routine of travel on the first five days of the week (Monday through Friday), but not on the weekends (Saturday and Sunday). But the same does not apply for the day of the month. Your daily travel routine is seldom affected based on whether it's the first of the month or the 10th of the month. \n",
    "\n",
    "Let's check if there are more accidents on the weekdays or weekends"
   ]
  },
  {
   "cell_type": "code",
   "execution_count": 9,
   "metadata": {},
   "outputs": [
    {
     "data": {
      "text/plain": [
       "<matplotlib.axes._subplots.AxesSubplot at 0x1936fbd50>"
      ]
     },
     "execution_count": 9,
     "metadata": {},
     "output_type": "execute_result"
    },
    {
     "data": {
      "image/png": "[encoded data removed]",
      "text/plain": [
       "<Figure size 432x288 with 1 Axes>"
      ]
     },
     "metadata": {
      "needs_background": "light"
     },
     "output_type": "display_data"
    }
   ],
   "source": [
    "df['WEEKDAY'] = df['DATETIME'].dt.weekday\n",
    "weekday_accidents = df.groupby('WEEKDAY').size()\n",
    "weekday_accidents.plot.bar()"
   ]
  },
  {
   "cell_type": "markdown",
   "metadata": {},
   "source": [
    "We can see that Weekends have a relatively lesser accident count in New York. And Fridays seem to have the most number of accidents."
   ]
  },
  {
   "cell_type": "markdown",
   "metadata": {},
   "source": [
    "## Injury vs Death count (10 minutes)"
   ]
  },
  {
   "cell_type": "markdown",
   "metadata": {},
   "source": [
    "After datetime of the accidents, one other thing that catches our eye is the injured and death count in the accidents. How do these counts correlate? Does the number of deaths increase proportionally with the injury count?"
   ]
  },
  {
   "cell_type": "code",
   "execution_count": 10,
   "metadata": {},
   "outputs": [
    {
     "data": {
      "text/plain": [
       "Text(0, 0.5, 'Killed')"
      ]
     },
     "execution_count": 10,
     "metadata": {},
     "output_type": "execute_result"
    },
    {
     "data": {
      "image/png": "[encoded data removed]",
      "text/plain": [
       "<Figure size 432x288 with 1 Axes>"
      ]
     },
     "metadata": {
      "needs_background": "light"
     },
     "output_type": "display_data"
    }
   ],
   "source": [
    "plt.scatter(df['TOTAL INJURED'], df['TOTAL KILLED'], s=10)\n",
    "plt.title('Injured vs killed count')\n",
    "plt.xlabel('Injured')\n",
    "plt.ylabel('Killed')"
   ]
  },
  {
   "cell_type": "markdown",
   "metadata": {},
   "source": [
    "We can see from the above that accidents have had very less death count compared to the injured count, even when the injury count has raised to more than 20. The maximum number of deaths in a single accident is 2."
   ]
  },
  {
   "cell_type": "markdown",
   "metadata": {},
   "source": [
    "## Borough based analysis (15 minutes)"
   ]
  },
  {
   "cell_type": "markdown",
   "metadata": {},
   "source": [
    "Next let's get into the borough based analysis. The basic step would be find out how the number of accidents vary across boroughs"
   ]
  },
  {
   "cell_type": "code",
   "execution_count": 11,
   "metadata": {},
   "outputs": [
    {
     "data": {
      "text/plain": [
       "<matplotlib.axes._subplots.AxesSubplot at 0x1937864d0>"
      ]
     },
     "execution_count": 11,
     "metadata": {},
     "output_type": "execute_result"
    },
    {
     "data": {
      "image/png": "[encoded data removed]",
      "text/plain": [
       "<Figure size 432x288 with 1 Axes>"
      ]
     },
     "metadata": {
      "needs_background": "light"
     },
     "output_type": "display_data"
    }
   ],
   "source": [
    "boroughs = df.groupby('BOROUGH').size()\n",
    "boroughs.plot.bar()"
   ]
  },
  {
   "cell_type": "markdown",
   "metadata": {},
   "source": [
    "We can see that Brooklyn and Queens have a very high number compared to the other 3. Is this only because they are the largest boroughs in the city and hence have more chances of accidents? Or is there any other specific reason for this higher accident count? Let's use the area data we collected before to verify the same. \n",
    "\n",
    "In order to do that, check if the keys / names of the boroughs match between the borough data we collected and the dataframe we have. \n",
    "\n",
    "If there are mismatches in the name, fix it by changing the borough name in the key of the `borough_data` dictionary. We are doing this to easily map the accident count and the area of the borough in the next step."
   ]
  },
  {
   "cell_type": "code",
   "execution_count": 12,
   "metadata": {},
   "outputs": [
    {
     "name": "stdout",
     "output_type": "stream",
     "text": [
      "dict_keys(['the bronx', 'brooklyn', 'manhattan', 'queens', 'staten island'])\n",
      "['BRONX' 'BROOKLYN' 'QUEENS' 'MANHATTAN' 'STATEN ISLAND']\n"
     ]
    }
   ],
   "source": [
    "# Update keys in borough data\n",
    "print(borough_data.keys())\n",
    "print(df['BOROUGH'].unique())\n",
    "\n",
    "# Since there are differences in the text used in the data and Wikipedia data, let's update it\n",
    "borough_data['bronx'] = borough_data.pop('the bronx')"
   ]
  },
  {
   "cell_type": "markdown",
   "metadata": {},
   "source": [
    "We have now got the keys to match in the dictionary and the dataframe. The difference in case can be handled by making the mapping action case insensitive. This can be done by either converting the dictionary keys to upper, or the dataframe data to lower.\n",
    "\n",
    "Let's do that and plot `accidents_per_sq_km`, which is the number of accidents / area of the borough"
   ]
  },
  {
   "cell_type": "code",
   "execution_count": 13,
   "metadata": {
    "scrolled": true
   },
   "outputs": [
    {
     "data": {
      "text/plain": [
       "<matplotlib.axes._subplots.AxesSubplot at 0x1937f3910>"
      ]
     },
     "execution_count": 13,
     "metadata": {},
     "output_type": "execute_result"
    },
    {
     "data": {
      "image/png": "[encoded data removed]",
      "text/plain": [
       "<Figure size 432x288 with 1 Axes>"
      ]
     },
     "metadata": {
      "needs_background": "light"
     },
     "output_type": "display_data"
    }
   ],
   "source": [
    "borough_frame = pd.DataFrame(boroughs)\n",
    "borough_frame.columns = ['count']\n",
    "borough_frame['borough'] = borough_frame.index\n",
    "\n",
    "borough_frame['accidents_per_sq_km'] = borough_frame.apply(lambda x: x['count'] / borough_data[x['borough'].lower()]['area'], axis=1)\n",
    "borough_frame.plot.bar(x='borough', y='accidents_per_sq_km')"
   ]
  },
  {
   "cell_type": "markdown",
   "metadata": {},
   "source": [
    "When looking at the `accidents_per_sq_km` parameter, Manhattan tops that list by a very large number. This clearly shows that even though Brooklyn and Queens have more number of accidents, there is a problem with Manhattan where the number of accidents are way higher for it's small area. "
   ]
  },
  {
   "cell_type": "markdown",
   "metadata": {},
   "source": [
    "## Borough and Hour analysis (15 minutes)"
   ]
  },
  {
   "cell_type": "markdown",
   "metadata": {},
   "source": [
    "We have made separate analysis on how the data varied across boroughs, and how it varied across time. Let's combine both of them and see whether there are different patterns based on time for each borough. \n",
    "\n",
    "This should be done by grouping all the records based on the borough and hour of the day, and use seaborn to plot different bar graphs for each of the boroughs"
   ]
  },
  {
   "cell_type": "code",
   "execution_count": 14,
   "metadata": {},
   "outputs": [
    {
     "name": "stderr",
     "output_type": "stream",
     "text": [
      "/Users/aswinmurugesh/codes/venv_python3_iot/lib/python3.7/site-packages/seaborn/axisgrid.py:715: UserWarning: Using the barplot function without specifying `order` is likely to produce an incorrect plot.\n",
      "  warnings.warn(warning)\n"
     ]
    },
    {
     "data": {
      "text/plain": [
       "<seaborn.axisgrid.FacetGrid at 0x1937d5090>"
      ]
     },
     "execution_count": 14,
     "metadata": {},
     "output_type": "execute_result"
    },
    {
     "data": {
      "image/png": "[encoded data removed]",
      "text/plain": [
       "<Figure size 1296x432 with 5 Axes>"
      ]
     },
     "metadata": {
      "needs_background": "light"
     },
     "output_type": "display_data"
    }
   ],
   "source": [
    "df1 = pd.DataFrame({'count': df.groupby(['BOROUGH', 'HOUR']).size()})\n",
    "df1 = df1.reset_index()\n",
    "\n",
    "chart = sns.FacetGrid(df1, col='BOROUGH', margin_titles=True, col_wrap=3, aspect=2)\n",
    "chart.map(sns.barplot, 'HOUR', 'count',)"
   ]
  },
  {
   "cell_type": "markdown",
   "metadata": {},
   "source": [
    "We can see that in all the boroughs the accident count has increased around the afternoon time and then reduced after 6PM. But in Manhattan and Bronx you can see that there is not much of an increase as in Brooklyn or in Queens. And compartively, Staten Island seems to have the least number of accidents."
   ]
  },
  {
   "cell_type": "markdown",
   "metadata": {},
   "source": [
    "## Cause of accident (15 minutes)"
   ]
  },
  {
   "cell_type": "markdown",
   "metadata": {},
   "source": [
    "The next interesting factor in the dataset could be the cause of the accident. What causes more number of accidents? Overspeeding? Driver carelessness? or is it Vehicle malfunction? Let's check it out.\n",
    "\n",
    "Now that the data is present in multiple columns (`CONTRIBUTING FACTOR VEHICLE 1 - 5`), we need to add up all the values to get the right picture.\n",
    "\n",
    "In order to do that, we need to get the sum of each contributing factor for each column, and then combine them together to get the overall sum of accidents for a contributing factor."
   ]
  },
  {
   "cell_type": "code",
   "execution_count": 23,
   "metadata": {
    "scrolled": true
   },
   "outputs": [
    {
     "data": {
      "text/plain": [
       "factor\n",
       "                                                         739738\n",
       "Unspecified                                              240164\n",
       "Driver Inattention/Distraction                            72203\n",
       "Failure to Yield Right-of-Way                             20413\n",
       "Following Too Closely                                     17909\n",
       "Backing Unsafely                                          15068\n",
       "Passing Too Closely                                       13378\n",
       "Passing or Lane Usage Improper                            12953\n",
       "Other Vehicular                                           11093\n",
       "Unsafe Lane Changing                                       6986\n",
       "Turning Improperly                                         6798\n",
       "Traffic Control Disregarded                                5146\n",
       "Driver Inexperience                                        4431\n",
       "Unsafe Speed                                               3530\n",
       "Reaction to Uninvolved Vehicle                             3190\n",
       "View Obstructed/Limited                                    2537\n",
       "Alcohol Involvement                                        2514\n",
       "Pavement Slippery                                          2146\n",
       "Oversized Vehicle                                          2023\n",
       "Pedestrian/Bicyclist/Other Pedestrian Error/Confusion      1895\n",
       "Aggressive Driving/Road Rage                               1153\n",
       "Passenger Distraction                                      1053\n",
       "Brakes Defective                                            842\n",
       "Fell Asleep                                                 600\n",
       "Outside Car Distraction                                     572\n",
       "Obstruction/Debris                                          457\n",
       "Glare                                                       447\n",
       "Failure to Keep Right                                       378\n",
       "Steering Failure                                            320\n",
       "Pavement Defective                                          315\n",
       "Illnes                                                      256\n",
       "Driverless/Runaway Vehicle                                  247\n",
       "Tire Failure/Inadequate                                     220\n",
       "Fatigued/Drowsy                                             218\n",
       "Lost Consciousness                                          206\n",
       "Lane Marking Improper/Inadequate                            194\n",
       "Animals Action                                              189\n",
       "Accelerator Defective                                       143\n",
       "Traffic Control Device Improper/Non-Working                 141\n",
       "Drugs (illegal)                                             118\n",
       "Cell Phone (hand-Held)                                       94\n",
       "Physical Disability                                          61\n",
       "Other Lighting Defects                                       40\n",
       "Other Electronic Device                                      31\n",
       "Tow Hitch Defective                                          28\n",
       "Tinted Windows                                               27\n",
       "Vehicle Vandalism                                            24\n",
       "Prescription Medication                                      20\n",
       "Using On Board Navigation Device                             19\n",
       "Headlights Defective                                         17\n",
       "Eating or Drinking                                           16\n",
       "Texting                                                      13\n",
       "Cell Phone (hands-free)                                      12\n",
       "Shoulders Defective/Improper                                  9\n",
       "Windshield Inadequate                                         8\n",
       "Listening/Using Headphones                                    7\n",
       "Name: count, dtype: int64"
      ]
     },
     "execution_count": 23,
     "metadata": {},
     "output_type": "execute_result"
    }
   ],
   "source": [
    "combined_df = pd.DataFrame(columns=['factor', 'count'])\n",
    "columns = ['CONTRIBUTING FACTOR VEHICLE 1', 'CONTRIBUTING FACTOR VEHICLE 2', \n",
    "           'CONTRIBUTING FACTOR VEHICLE 3', 'CONTRIBUTING FACTOR VEHICLE 4',\n",
    "          'CONTRIBUTING FACTOR VEHICLE 5']\n",
    "for column in columns:\n",
    "    column_df = pd.DataFrame({'count': df.groupby(column).size()})\n",
    "    column_df = column_df.reset_index()\n",
    "    column_df.columns = ['factor', 'count']\n",
    "    combined_df = pd.concat([combined_df, column_df], sort=True)\n",
    "    \n",
    "# Now that we have combined the sum of each column into a single dataframe, a groupby on that dataframe\n",
    "# will give you the overall sum of each contributing factor\n",
    "combined_df.groupby('factor')['count'].sum().sort_values(ascending=False)"
   ]
  },
  {
   "cell_type": "markdown",
   "metadata": {},
   "source": [
    "Though a large number of items are empty / unspecified, out of the available ones we can see that Driver Inattention is the problem for most of the accidents. Followed by `Failure to Yield Right-of-Way`.\n",
    "\n",
    "Note that electronic items - Texting, Cell Phone, Headphones - are present at the bottom of the list."
   ]
  },
  {
   "cell_type": "markdown",
   "metadata": {},
   "source": [
    "## Takeaways from the analysis (10 minutes)"
   ]
  },
  {
   "cell_type": "markdown",
   "metadata": {},
   "source": [
    "We have found the answers for a specific set of questions based on the analysis we made. Please fill out the answers below for each question based on the analysis"
   ]
  },
  {
   "cell_type": "markdown",
   "metadata": {},
   "source": [
    "- **Have the number of accidents increased over the last year and a half?**\n",
    "    - The line graph we plotted clearly shows there is no spike in the number of accidents. Hence No.\n",
    "- **Is there a correlation between number of accidents and the time of the day? What do you suggest to your customer based on this analysis?**\n",
    "    - From the bar plot based on hour of the day, we can conclude that there are more accidents happening in the afternoon. So 2PM to 6PM is the time to concentrate and take preventive measures to reduce the number of accidents\n",
    "- **Are there more accidents on Weekends? Do people rash drive and cause more accidents on the weekends?**\n",
    "    - No. The number of accidents are relatively less on Weekends than on weekdays\n",
    "- **How are the casualities in the accidents? Are there more deaths or injuries?**\n",
    "    - The number of deaths are very less and most accidents have only injuries.\n",
    "- **Which borough has the most accidents?**\n",
    "    - Brooklyn has the most number of accidents overall, but that might also be due to it's larger area. Looking at the proportion between number of accidents and area, Manhattan has a unproportionally large number of accidents\n",
    "- **Does the number of accidents higher at different times in different boroughs? Should we concentrate at different times for each borough?**\n",
    "    - All the boroughs seem to have the max number of accidents between 2PM to 6PM.\n",
    "- **What are some of the primary causes for accidents?**\n",
    "    - "
   ]
  },
  {
   "cell_type": "markdown",
   "metadata": {},
   "source": [
    "## Conclusion (10 minutes)"
   ]
  },
  {
   "cell_type": "markdown",
   "metadata": {},
   "source": [
    "With a provided dataset on Motor Vehicle collisions in New York city, we were able to do some calculations and get some insights on patterns present in the data, that can be used to reduce the accidents in the future. There are still different fields in the dataset which we have not spent time on, like the Contributing Factor, Vehicle Type. Interesting results might turn out if you are able to analyse that in combination with other columns like we did now.\n",
    "\n",
    "When the client implements a few preventive measures, after some time it would be interesting to run the same set of analysis for the time after the implementation, to see how much the accidents have reduced and whether these measures were effective."
   ]
  },
  {
   "cell_type": "markdown",
   "metadata": {},
   "source": [
    "## Takeaways"
   ]
  },
  {
   "cell_type": "markdown",
   "metadata": {},
   "source": [
    "When doing data analysis on any given dataset, \n",
    "\n",
    "- Determine the set of questions that you are about to find answers for. It is always easy to find answers from the dataset. But it is difficult to come up with questions.\n",
    "- The data always becomes more useful when combined with some external data (Like adding borough area to this case)\n",
    "- The end of a data analysis sprint should provide you with answers for all the questions you had in the beginning. All the questions might not have the answers you expected, but the point is to ask as many questions as you can, in order to come up with at least a few interesting answers"
   ]
  },
  {
   "cell_type": "code",
   "execution_count": null,
   "metadata": {},
   "outputs": [],
   "source": []
  }
 ],
 "metadata": {
  "kernelspec": {
   "display_name": "correlation_one",
   "language": "python",
   "name": "correlation_one"
  },
  "language_info": {
   "codemirror_mode": {
    "name": "ipython",
    "version": 3
   },
   "file_extension": ".py",
   "mimetype": "text/x-python",
   "name": "python",
   "nbconvert_exporter": "python",
   "pygments_lexer": "ipython3",
   "version": "3.7.4"
  }
 },
 "nbformat": 4,
 "nbformat_minor": 2
}
