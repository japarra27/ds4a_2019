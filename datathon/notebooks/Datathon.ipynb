{
 "cells": [
  {
   "cell_type": "markdown",
   "metadata": {},
   "source": [
    "# Uber Project - Datathon"
   ]
  },
  {
   "cell_type": "markdown",
   "metadata": {},
   "source": [
    "## Setup environment"
   ]
  },
  {
   "cell_type": "code",
   "execution_count": null,
   "metadata": {
    "ExecuteTime": {
     "end_time": "2019-10-10T12:22:03.327202Z",
     "start_time": "2019-10-10T12:22:03.323841Z"
    }
   },
   "outputs": [],
   "source": [
    "# Import libraries\n",
    "import os\n",
    "from glob import glob\n",
    "import pandas as pd\n",
    "import numpy as np\n",
    "import pandas_profiling as pp"
   ]
  },
  {
   "cell_type": "code",
   "execution_count": null,
   "metadata": {
    "ExecuteTime": {
     "end_time": "2019-10-10T12:12:02.744607Z",
     "start_time": "2019-10-10T12:12:02.740461Z"
    },
    "scrolled": true
   },
   "outputs": [],
   "source": [
    "# Change directory\n",
    "os.chdir(\"..\")\n",
    "print(os.getcwd())"
   ]
  },
  {
   "cell_type": "markdown",
   "metadata": {},
   "source": [
    "## Import documents"
   ]
  },
  {
   "cell_type": "code",
   "execution_count": null,
   "metadata": {
    "ExecuteTime": {
     "end_time": "2019-10-10T12:22:28.729284Z",
     "start_time": "2019-10-10T12:22:28.724220Z"
    }
   },
   "outputs": [],
   "source": [
    "os.listdir(\"./data/raw/\")"
   ]
  },
  {
   "cell_type": "code",
   "execution_count": null,
   "metadata": {
    "ExecuteTime": {
     "end_time": "2019-10-10T12:27:54.359773Z",
     "start_time": "2019-10-10T12:27:54.178675Z"
    }
   },
   "outputs": [],
   "source": [
    "# Import uncompressed csv\n",
    "demographics = pd.read_csv(\"./data/raw/demographics.csv\")\n",
    "geographic = pd.read_csv(\"./data/raw/geographic.csv\")\n",
    "weather = pd.read_csv(\"./data/raw/weather.csv\")\n",
    "zones = pd.read_csv(\"./data/raw/zones.csv\")"
   ]
  },
  {
   "cell_type": "code",
   "execution_count": null,
   "metadata": {
    "ExecuteTime": {
     "end_time": "2019-10-10T12:30:00.774772Z",
     "start_time": "2019-10-10T12:29:53.582497Z"
    }
   },
   "outputs": [],
   "source": [
    "# Import compressed csv\n",
    "green_trips = pd.read_csv(\"./data/raw/green_trips.csv.gz\", compression=\"gzip\")"
   ]
  },
  {
   "cell_type": "code",
   "execution_count": null,
   "metadata": {
    "ExecuteTime": {
     "end_time": "2019-10-10T12:30:10.706355Z",
     "start_time": "2019-10-10T12:30:10.696320Z"
    }
   },
   "outputs": [],
   "source": [
    "green_trips.tail()"
   ]
  },
  {
   "cell_type": "code",
   "execution_count": null,
   "metadata": {
    "ExecuteTime": {
     "end_time": "2019-10-10T12:34:23.131723Z",
     "start_time": "2019-10-10T12:34:20.493592Z"
    }
   },
   "outputs": [],
   "source": [
    "green_trips.memory_usage(deep=True).sum()"
   ]
  }
 ],
 "metadata": {
  "kernelspec": {
   "display_name": "Python 3",
   "language": "python",
   "name": "python3"
  },
  "language_info": {
   "codemirror_mode": {
    "name": "ipython",
    "version": 3
   },
   "file_extension": ".py",
   "mimetype": "text/x-python",
   "name": "python",
   "nbconvert_exporter": "python",
   "pygments_lexer": "ipython3",
   "version": "3.7.4"
  },
  "latex_envs": {
   "LaTeX_envs_menu_present": true,
   "autoclose": false,
   "autocomplete": true,
   "bibliofile": "biblio.bib",
   "cite_by": "apalike",
   "current_citInitial": 1,
   "eqLabelWithNumbers": true,
   "eqNumInitial": 1,
   "hotkeys": {
    "equation": "Ctrl-E",
    "itemize": "Ctrl-I"
   },
   "labels_anchors": false,
   "latex_user_defs": false,
   "report_style_numbering": false,
   "user_envs_cfg": false
  }
 },
 "nbformat": 4,
 "nbformat_minor": 2
}
